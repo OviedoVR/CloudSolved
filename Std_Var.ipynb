{
  "nbformat": 4,
  "nbformat_minor": 0,
  "metadata": {
    "colab": {
      "provenance": [],
      "authorship_tag": "ABX9TyNs6dBbM6XU/IGYwFe3GOxB",
      "include_colab_link": true
    },
    "kernelspec": {
      "name": "python3",
      "display_name": "Python 3"
    },
    "language_info": {
      "name": "python"
    }
  },
  "cells": [
    {
      "cell_type": "markdown",
      "metadata": {
        "id": "view-in-github",
        "colab_type": "text"
      },
      "source": [
        "<a href=\"https://colab.research.google.com/github/OviedoVR/CloudSolved/blob/main/Std_Var.ipynb\" target=\"_parent\"><img src=\"https://colab.research.google.com/assets/colab-badge.svg\" alt=\"Open In Colab\"/></a>"
      ]
    },
    {
      "cell_type": "markdown",
      "source": [
        "## **Variance and Standard Deviation:** *Numpy* **versus** *Pandas*\n",
        "\n",
        "---\n",
        "\n",
        "> **Tips dataset** (from [Seaborn](https://seaborn.pydata.org/))\n",
        "\n",
        "* total_bill\t\n",
        "* **tip**\t\n",
        "* sex\t\n",
        "* smoker\n",
        "* day\t\n",
        "* time\t\n",
        "* size\n"
      ],
      "metadata": {
        "id": "gzYO_mx7nMpa"
      }
    },
    {
      "cell_type": "markdown",
      "source": [
        "### **Imports**"
      ],
      "metadata": {
        "id": "ez9GzM37oaAW"
      }
    },
    {
      "cell_type": "code",
      "execution_count": 1,
      "metadata": {
        "id": "OssveWlopAF0"
      },
      "outputs": [],
      "source": [
        "import numpy as np\n",
        "import pandas as pd\n",
        "import seaborn as sns"
      ]
    },
    {
      "cell_type": "markdown",
      "source": [
        "### **Looking at the data**"
      ],
      "metadata": {
        "id": "bUkMuUZkopFQ"
      }
    },
    {
      "cell_type": "code",
      "source": [
        "tip = sns.load_dataset('tips')\n",
        "tip.head()"
      ],
      "metadata": {
        "colab": {
          "base_uri": "https://localhost:8080/",
          "height": 206
        },
        "id": "tyIs5fR0ouhq",
        "outputId": "7981c151-29a6-42f0-eb31-fe7cfc6c2238"
      },
      "execution_count": 3,
      "outputs": [
        {
          "output_type": "execute_result",
          "data": {
            "text/plain": [
              "   total_bill   tip     sex smoker  day    time  size\n",
              "0       16.99  1.01  Female     No  Sun  Dinner     2\n",
              "1       10.34  1.66    Male     No  Sun  Dinner     3\n",
              "2       21.01  3.50    Male     No  Sun  Dinner     3\n",
              "3       23.68  3.31    Male     No  Sun  Dinner     2\n",
              "4       24.59  3.61  Female     No  Sun  Dinner     4"
            ],
            "text/html": [
              "\n",
              "  <div id=\"df-19a5def4-4ec2-454b-91fd-a80101ffcc34\">\n",
              "    <div class=\"colab-df-container\">\n",
              "      <div>\n",
              "<style scoped>\n",
              "    .dataframe tbody tr th:only-of-type {\n",
              "        vertical-align: middle;\n",
              "    }\n",
              "\n",
              "    .dataframe tbody tr th {\n",
              "        vertical-align: top;\n",
              "    }\n",
              "\n",
              "    .dataframe thead th {\n",
              "        text-align: right;\n",
              "    }\n",
              "</style>\n",
              "<table border=\"1\" class=\"dataframe\">\n",
              "  <thead>\n",
              "    <tr style=\"text-align: right;\">\n",
              "      <th></th>\n",
              "      <th>total_bill</th>\n",
              "      <th>tip</th>\n",
              "      <th>sex</th>\n",
              "      <th>smoker</th>\n",
              "      <th>day</th>\n",
              "      <th>time</th>\n",
              "      <th>size</th>\n",
              "    </tr>\n",
              "  </thead>\n",
              "  <tbody>\n",
              "    <tr>\n",
              "      <th>0</th>\n",
              "      <td>16.99</td>\n",
              "      <td>1.01</td>\n",
              "      <td>Female</td>\n",
              "      <td>No</td>\n",
              "      <td>Sun</td>\n",
              "      <td>Dinner</td>\n",
              "      <td>2</td>\n",
              "    </tr>\n",
              "    <tr>\n",
              "      <th>1</th>\n",
              "      <td>10.34</td>\n",
              "      <td>1.66</td>\n",
              "      <td>Male</td>\n",
              "      <td>No</td>\n",
              "      <td>Sun</td>\n",
              "      <td>Dinner</td>\n",
              "      <td>3</td>\n",
              "    </tr>\n",
              "    <tr>\n",
              "      <th>2</th>\n",
              "      <td>21.01</td>\n",
              "      <td>3.50</td>\n",
              "      <td>Male</td>\n",
              "      <td>No</td>\n",
              "      <td>Sun</td>\n",
              "      <td>Dinner</td>\n",
              "      <td>3</td>\n",
              "    </tr>\n",
              "    <tr>\n",
              "      <th>3</th>\n",
              "      <td>23.68</td>\n",
              "      <td>3.31</td>\n",
              "      <td>Male</td>\n",
              "      <td>No</td>\n",
              "      <td>Sun</td>\n",
              "      <td>Dinner</td>\n",
              "      <td>2</td>\n",
              "    </tr>\n",
              "    <tr>\n",
              "      <th>4</th>\n",
              "      <td>24.59</td>\n",
              "      <td>3.61</td>\n",
              "      <td>Female</td>\n",
              "      <td>No</td>\n",
              "      <td>Sun</td>\n",
              "      <td>Dinner</td>\n",
              "      <td>4</td>\n",
              "    </tr>\n",
              "  </tbody>\n",
              "</table>\n",
              "</div>\n",
              "      <button class=\"colab-df-convert\" onclick=\"convertToInteractive('df-19a5def4-4ec2-454b-91fd-a80101ffcc34')\"\n",
              "              title=\"Convert this dataframe to an interactive table.\"\n",
              "              style=\"display:none;\">\n",
              "        \n",
              "  <svg xmlns=\"http://www.w3.org/2000/svg\" height=\"24px\"viewBox=\"0 0 24 24\"\n",
              "       width=\"24px\">\n",
              "    <path d=\"M0 0h24v24H0V0z\" fill=\"none\"/>\n",
              "    <path d=\"M18.56 5.44l.94 2.06.94-2.06 2.06-.94-2.06-.94-.94-2.06-.94 2.06-2.06.94zm-11 1L8.5 8.5l.94-2.06 2.06-.94-2.06-.94L8.5 2.5l-.94 2.06-2.06.94zm10 10l.94 2.06.94-2.06 2.06-.94-2.06-.94-.94-2.06-.94 2.06-2.06.94z\"/><path d=\"M17.41 7.96l-1.37-1.37c-.4-.4-.92-.59-1.43-.59-.52 0-1.04.2-1.43.59L10.3 9.45l-7.72 7.72c-.78.78-.78 2.05 0 2.83L4 21.41c.39.39.9.59 1.41.59.51 0 1.02-.2 1.41-.59l7.78-7.78 2.81-2.81c.8-.78.8-2.07 0-2.86zM5.41 20L4 18.59l7.72-7.72 1.47 1.35L5.41 20z\"/>\n",
              "  </svg>\n",
              "      </button>\n",
              "      \n",
              "  <style>\n",
              "    .colab-df-container {\n",
              "      display:flex;\n",
              "      flex-wrap:wrap;\n",
              "      gap: 12px;\n",
              "    }\n",
              "\n",
              "    .colab-df-convert {\n",
              "      background-color: #E8F0FE;\n",
              "      border: none;\n",
              "      border-radius: 50%;\n",
              "      cursor: pointer;\n",
              "      display: none;\n",
              "      fill: #1967D2;\n",
              "      height: 32px;\n",
              "      padding: 0 0 0 0;\n",
              "      width: 32px;\n",
              "    }\n",
              "\n",
              "    .colab-df-convert:hover {\n",
              "      background-color: #E2EBFA;\n",
              "      box-shadow: 0px 1px 2px rgba(60, 64, 67, 0.3), 0px 1px 3px 1px rgba(60, 64, 67, 0.15);\n",
              "      fill: #174EA6;\n",
              "    }\n",
              "\n",
              "    [theme=dark] .colab-df-convert {\n",
              "      background-color: #3B4455;\n",
              "      fill: #D2E3FC;\n",
              "    }\n",
              "\n",
              "    [theme=dark] .colab-df-convert:hover {\n",
              "      background-color: #434B5C;\n",
              "      box-shadow: 0px 1px 3px 1px rgba(0, 0, 0, 0.15);\n",
              "      filter: drop-shadow(0px 1px 2px rgba(0, 0, 0, 0.3));\n",
              "      fill: #FFFFFF;\n",
              "    }\n",
              "  </style>\n",
              "\n",
              "      <script>\n",
              "        const buttonEl =\n",
              "          document.querySelector('#df-19a5def4-4ec2-454b-91fd-a80101ffcc34 button.colab-df-convert');\n",
              "        buttonEl.style.display =\n",
              "          google.colab.kernel.accessAllowed ? 'block' : 'none';\n",
              "\n",
              "        async function convertToInteractive(key) {\n",
              "          const element = document.querySelector('#df-19a5def4-4ec2-454b-91fd-a80101ffcc34');\n",
              "          const dataTable =\n",
              "            await google.colab.kernel.invokeFunction('convertToInteractive',\n",
              "                                                     [key], {});\n",
              "          if (!dataTable) return;\n",
              "\n",
              "          const docLinkHtml = 'Like what you see? Visit the ' +\n",
              "            '<a target=\"_blank\" href=https://colab.research.google.com/notebooks/data_table.ipynb>data table notebook</a>'\n",
              "            + ' to learn more about interactive tables.';\n",
              "          element.innerHTML = '';\n",
              "          dataTable['output_type'] = 'display_data';\n",
              "          await google.colab.output.renderOutput(dataTable, element);\n",
              "          const docLink = document.createElement('div');\n",
              "          docLink.innerHTML = docLinkHtml;\n",
              "          element.appendChild(docLink);\n",
              "        }\n",
              "      </script>\n",
              "    </div>\n",
              "  </div>\n",
              "  "
            ]
          },
          "metadata": {},
          "execution_count": 3
        }
      ]
    },
    {
      "cell_type": "markdown",
      "source": [
        "### **Variance**"
      ],
      "metadata": {
        "id": "i8DQBKHSou7J"
      }
    },
    {
      "cell_type": "markdown",
      "source": [
        "POPULATION:\n",
        "\n",
        "$\\sigma^2 = \\sum \\frac{(xi - \\mu)^2}{N}$\n",
        "\n",
        "&nbsp;\n",
        "\n",
        "SAMPLE:\n",
        "\n",
        "$s^2 = \\sum \\frac{(xi - \\bar{x})^2}{(n-1)}$"
      ],
      "metadata": {
        "id": "_CTShEJEqsQ4"
      }
    },
    {
      "cell_type": "markdown",
      "source": [
        "* Pandas"
      ],
      "metadata": {
        "id": "0ZN8fL_upmKh"
      }
    },
    {
      "cell_type": "code",
      "source": [
        "tip['tip'].var()"
      ],
      "metadata": {
        "colab": {
          "base_uri": "https://localhost:8080/"
        },
        "id": "rmWAiYdyo4x5",
        "outputId": "4189273f-e126-4f36-9ef8-dae0181a2520"
      },
      "execution_count": 5,
      "outputs": [
        {
          "output_type": "execute_result",
          "data": {
            "text/plain": [
              "1.914454638062471"
            ]
          },
          "metadata": {},
          "execution_count": 5
        }
      ]
    },
    {
      "cell_type": "markdown",
      "source": [
        "* Numpy"
      ],
      "metadata": {
        "id": "cRjMbPWXpoFD"
      }
    },
    {
      "cell_type": "code",
      "source": [
        "np.var(tip['tip'])"
      ],
      "metadata": {
        "colab": {
          "base_uri": "https://localhost:8080/"
        },
        "id": "491DsPbqppYU",
        "outputId": "d2e9caf4-6b65-4551-c728-7fad3ce1fd73"
      },
      "execution_count": 6,
      "outputs": [
        {
          "output_type": "execute_result",
          "data": {
            "text/plain": [
              "1.9066085124966412"
            ]
          },
          "metadata": {},
          "execution_count": 6
        }
      ]
    },
    {
      "cell_type": "markdown",
      "source": [
        "**Documentation**\n",
        "\n",
        "[np.var()](https://numpy.org/doc/stable/reference/generated/numpy.var.html)\n",
        "\n",
        "[df.var()](https://pandas.pydata.org/pandas-docs/stable/reference/api/pandas.DataFrame.var.html)\n",
        "\n",
        "```python\n",
        "# Numpy:\n",
        "np.var(..., ddof=1)\n",
        "\n",
        "# Pandas\n",
        "df['column'].var()\n",
        "```"
      ],
      "metadata": {
        "id": "IFY2BxhOpp6i"
      }
    },
    {
      "cell_type": "markdown",
      "source": [
        "**Then**"
      ],
      "metadata": {
        "id": "OkoViu4lsBWQ"
      }
    },
    {
      "cell_type": "code",
      "source": [
        "var_np = np.var(tip['tip'], ddof=1)\n",
        "var_pd = tip['tip'].var()\n",
        "\n",
        "print(f'Numpy: {var_np}')\n",
        "print(f'Pandas: {var_pd}')"
      ],
      "metadata": {
        "colab": {
          "base_uri": "https://localhost:8080/"
        },
        "id": "GmJsZQwppvxJ",
        "outputId": "b1f68bc6-e329-4791-cfb6-08bcd61b0e92"
      },
      "execution_count": 7,
      "outputs": [
        {
          "output_type": "stream",
          "name": "stdout",
          "text": [
            "Numpy: 1.914454638062471\n",
            "Pandas: 1.914454638062471\n"
          ]
        }
      ]
    },
    {
      "cell_type": "markdown",
      "source": [
        "### **Standard Deviation**"
      ],
      "metadata": {
        "id": "uAMAYNc_o01o"
      }
    },
    {
      "cell_type": "markdown",
      "source": [
        "POPULATION:\n",
        "\n",
        "$\\sigma = \\sqrt{ \\sum \\frac{(xi - \\mu)^2}{N}}$ \n",
        "\n",
        "&nbsp;\n",
        "\n",
        "SAMPLE:\n",
        "\n",
        "$s = \\sqrt{  \\sum \\frac{(xi - \\bar{x})^2}{(n-1)} }$"
      ],
      "metadata": {
        "id": "-gofJA5TqBQJ"
      }
    },
    {
      "cell_type": "markdown",
      "source": [
        "* Pandas"
      ],
      "metadata": {
        "id": "-MVl0xzUpxUR"
      }
    },
    {
      "cell_type": "code",
      "source": [
        "tip['tip'].std()"
      ],
      "metadata": {
        "colab": {
          "base_uri": "https://localhost:8080/"
        },
        "id": "Ii4vZDnRo0fA",
        "outputId": "8e2b438b-7449-465e-ac0f-7656bd425557"
      },
      "execution_count": 8,
      "outputs": [
        {
          "output_type": "execute_result",
          "data": {
            "text/plain": [
              "1.3836381890011822"
            ]
          },
          "metadata": {},
          "execution_count": 8
        }
      ]
    },
    {
      "cell_type": "markdown",
      "source": [
        "* Numpy"
      ],
      "metadata": {
        "id": "WQFfhn2spylh"
      }
    },
    {
      "cell_type": "code",
      "source": [
        "np.std(tip['tip'])"
      ],
      "metadata": {
        "colab": {
          "base_uri": "https://localhost:8080/"
        },
        "id": "PdA9jJ2Tpz-p",
        "outputId": "ea95f3a0-7920-4fb4-b5e6-3994dde43ca1"
      },
      "execution_count": 9,
      "outputs": [
        {
          "output_type": "execute_result",
          "data": {
            "text/plain": [
              "1.3807999538298954"
            ]
          },
          "metadata": {},
          "execution_count": 9
        }
      ]
    },
    {
      "cell_type": "markdown",
      "source": [
        "**Documentation**\n",
        "\n",
        "[np.std()](https://numpy.org/doc/stable/reference/generated/numpy.std.html)\n",
        "\n",
        "[df.std()](https://pandas.pydata.org/pandas-docs/stable/reference/api/pandas.DataFrame.std.html)\n",
        "\n",
        "```python\n",
        "# Numpy:\n",
        "np.std(..., ddof=1)\n",
        "\n",
        "# Pandas\n",
        "df['column'].std()\n",
        "```\n"
      ],
      "metadata": {
        "id": "sKh6kbTKp2vJ"
      }
    },
    {
      "cell_type": "markdown",
      "source": [
        "**Then**"
      ],
      "metadata": {
        "id": "1QQLIPVEr8iq"
      }
    },
    {
      "cell_type": "code",
      "source": [
        "std_np = np.std(tip['tip'], ddof=1)\n",
        "std_pd = tip['tip'].std()\n",
        "\n",
        "print(f'Numpy: {std_np}')\n",
        "print(f'Pandas: {std_pd}')"
      ],
      "metadata": {
        "colab": {
          "base_uri": "https://localhost:8080/"
        },
        "id": "VRgkeW6_p38q",
        "outputId": "d1444b26-248b-4c9f-8d40-a2840df721ae"
      },
      "execution_count": 10,
      "outputs": [
        {
          "output_type": "stream",
          "name": "stdout",
          "text": [
            "Numpy: 1.3836381890011822\n",
            "Pandas: 1.3836381890011822\n"
          ]
        }
      ]
    }
  ]
}